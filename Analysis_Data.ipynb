{
 "cells": [
  {
   "cell_type": "code",
   "execution_count": 1,
   "id": "b2aa9b07",
   "metadata": {},
   "outputs": [],
   "source": [
    "#import nltk\n",
    "#nltk.download(\"all\")"
   ]
  },
  {
   "cell_type": "code",
   "execution_count": 64,
   "id": "cfd1d366",
   "metadata": {},
   "outputs": [],
   "source": [
    "import pandas as pd\n",
    "import numpy as np\n",
    "import seaborn as sns\n",
    "import matplotlib.pyplot as plt\n",
    "import re\n",
    "import string"
   ]
  },
  {
   "cell_type": "code",
   "execution_count": 65,
   "id": "cf3b2142",
   "metadata": {},
   "outputs": [],
   "source": [
    "from nltk.stem import PorterStemmer\n",
    "from stop_words import get_stop_words\n",
    "from nltk.corpus import stopwords\n",
    "from nltk import word_tokenize\n",
    "\n",
    "\n"
   ]
  },
  {
   "cell_type": "code",
   "execution_count": 66,
   "id": "d9fc5ee4",
   "metadata": {},
   "outputs": [],
   "source": [
    "porter_stemmer = PorterStemmer()\n",
    "stop_words = list(get_stop_words('en'))         #About 900 stopwords\n",
    "nltk_words = list(stopwords.words('english')) #About 150 stopwords\n",
    "stop_words.extend(nltk_words)"
   ]
  },
  {
   "cell_type": "code",
   "execution_count": 67,
   "id": "f8f1eaf3",
   "metadata": {},
   "outputs": [
    {
     "data": {
      "text/html": [
       "<div>\n",
       "<style scoped>\n",
       "    .dataframe tbody tr th:only-of-type {\n",
       "        vertical-align: middle;\n",
       "    }\n",
       "\n",
       "    .dataframe tbody tr th {\n",
       "        vertical-align: top;\n",
       "    }\n",
       "\n",
       "    .dataframe thead th {\n",
       "        text-align: right;\n",
       "    }\n",
       "</style>\n",
       "<table border=\"1\" class=\"dataframe\">\n",
       "  <thead>\n",
       "    <tr style=\"text-align: right;\">\n",
       "      <th></th>\n",
       "      <th>Country</th>\n",
       "      <th>Restaurant Name</th>\n",
       "      <th>Sentiment</th>\n",
       "      <th>Review Title</th>\n",
       "      <th>Review Date</th>\n",
       "      <th>Review</th>\n",
       "    </tr>\n",
       "  </thead>\n",
       "  <tbody>\n",
       "    <tr>\n",
       "      <th>0</th>\n",
       "      <td>France</td>\n",
       "      <td>The Frog at Bercy Village</td>\n",
       "      <td>Negative</td>\n",
       "      <td>Rude manager</td>\n",
       "      <td>May 2024 •</td>\n",
       "      <td>The manager became agressive when I said the c...</td>\n",
       "    </tr>\n",
       "    <tr>\n",
       "      <th>1</th>\n",
       "      <td>France</td>\n",
       "      <td>The Frog at Bercy Village</td>\n",
       "      <td>Negative</td>\n",
       "      <td>A big disappointment</td>\n",
       "      <td>Feb 2024 •</td>\n",
       "      <td>I ordered a beef fillet ask to be done medium,...</td>\n",
       "    </tr>\n",
       "    <tr>\n",
       "      <th>2</th>\n",
       "      <td>France</td>\n",
       "      <td>The Frog at Bercy Village</td>\n",
       "      <td>Negative</td>\n",
       "      <td>Pretty Place with Bland Food</td>\n",
       "      <td>Nov 2023 •</td>\n",
       "      <td>This is an attractive venue with welcoming, al...</td>\n",
       "    </tr>\n",
       "    <tr>\n",
       "      <th>3</th>\n",
       "      <td>France</td>\n",
       "      <td>The Frog at Bercy Village</td>\n",
       "      <td>Negative</td>\n",
       "      <td>Great service and wine but inedible food</td>\n",
       "      <td>Mar 2023 •</td>\n",
       "      <td>Sadly I  used the high TripAdvisor rating too ...</td>\n",
       "    </tr>\n",
       "    <tr>\n",
       "      <th>4</th>\n",
       "      <td>France</td>\n",
       "      <td>The Frog at Bercy Village</td>\n",
       "      <td>Negative</td>\n",
       "      <td>Avoid- Worst meal in Rome - possibly ever</td>\n",
       "      <td>Nov 2022 •</td>\n",
       "      <td>From the start this meal was bad- especially g...</td>\n",
       "    </tr>\n",
       "  </tbody>\n",
       "</table>\n",
       "</div>"
      ],
      "text/plain": [
       "  Country            Restaurant Name Sentiment  \\\n",
       "0  France  The Frog at Bercy Village  Negative   \n",
       "1  France  The Frog at Bercy Village  Negative   \n",
       "2  France  The Frog at Bercy Village  Negative   \n",
       "3  France  The Frog at Bercy Village  Negative   \n",
       "4  France  The Frog at Bercy Village  Negative   \n",
       "\n",
       "                                Review Title Review Date  \\\n",
       "0                               Rude manager  May 2024 •   \n",
       "1                       A big disappointment  Feb 2024 •   \n",
       "2               Pretty Place with Bland Food  Nov 2023 •   \n",
       "3   Great service and wine but inedible food  Mar 2023 •   \n",
       "4  Avoid- Worst meal in Rome - possibly ever  Nov 2022 •   \n",
       "\n",
       "                                              Review  \n",
       "0  The manager became agressive when I said the c...  \n",
       "1  I ordered a beef fillet ask to be done medium,...  \n",
       "2  This is an attractive venue with welcoming, al...  \n",
       "3  Sadly I  used the high TripAdvisor rating too ...  \n",
       "4  From the start this meal was bad- especially g...  "
      ]
     },
     "execution_count": 67,
     "metadata": {},
     "output_type": "execute_result"
    }
   ],
   "source": [
    "data = r'C:\\Users\\AS\\Desktop\\European Restaurant Reviews\\European Restaurant Reviews.csv'\n",
    "\n",
    "\n",
    "df = pd.read_csv(data)\n",
    "df.head()"
   ]
  },
  {
   "cell_type": "code",
   "execution_count": 68,
   "id": "a6b37ce6",
   "metadata": {},
   "outputs": [],
   "source": [
    "#df['Sentiment'][130:150]"
   ]
  },
  {
   "cell_type": "code",
   "execution_count": 69,
   "id": "57c482af",
   "metadata": {},
   "outputs": [
    {
     "name": "stdout",
     "output_type": "stream",
     "text": [
      "<class 'pandas.core.frame.DataFrame'>\n",
      "RangeIndex: 1502 entries, 0 to 1501\n",
      "Data columns (total 6 columns):\n",
      " #   Column           Non-Null Count  Dtype \n",
      "---  ------           --------------  ----- \n",
      " 0   Country          1502 non-null   object\n",
      " 1   Restaurant Name  1502 non-null   object\n",
      " 2   Sentiment        1502 non-null   object\n",
      " 3   Review Title     1502 non-null   object\n",
      " 4   Review Date      1502 non-null   object\n",
      " 5   Review           1502 non-null   object\n",
      "dtypes: object(6)\n",
      "memory usage: 70.5+ KB\n"
     ]
    }
   ],
   "source": [
    "df.info()"
   ]
  },
  {
   "cell_type": "code",
   "execution_count": null,
   "id": "569ec3a7",
   "metadata": {},
   "outputs": [],
   "source": []
  },
  {
   "cell_type": "code",
   "execution_count": null,
   "id": "88a2246a",
   "metadata": {},
   "outputs": [],
   "source": []
  },
  {
   "cell_type": "markdown",
   "id": "c1298e3b",
   "metadata": {},
   "source": [
    "# null and duplicats"
   ]
  },
  {
   "cell_type": "code",
   "execution_count": 70,
   "id": "4d3c831b",
   "metadata": {},
   "outputs": [
    {
     "data": {
      "text/plain": [
       "Country            0\n",
       "Restaurant Name    0\n",
       "Sentiment          0\n",
       "Review Title       0\n",
       "Review Date        0\n",
       "Review             0\n",
       "dtype: int64"
      ]
     },
     "execution_count": 70,
     "metadata": {},
     "output_type": "execute_result"
    }
   ],
   "source": [
    "df.isna().sum()"
   ]
  },
  {
   "cell_type": "code",
   "execution_count": 71,
   "id": "cabb4f78",
   "metadata": {},
   "outputs": [
    {
     "data": {
      "text/plain": [
       "49"
      ]
     },
     "execution_count": 71,
     "metadata": {},
     "output_type": "execute_result"
    }
   ],
   "source": [
    "df.duplicated().sum()"
   ]
  },
  {
   "cell_type": "code",
   "execution_count": 44,
   "id": "587265f7",
   "metadata": {},
   "outputs": [],
   "source": [
    "#df = df.drop_duplicates()\n",
    "#df.duplicated().sum()"
   ]
  },
  {
   "cell_type": "code",
   "execution_count": null,
   "id": "10fb6fa0",
   "metadata": {},
   "outputs": [],
   "source": []
  },
  {
   "cell_type": "code",
   "execution_count": 45,
   "id": "4ed47541",
   "metadata": {},
   "outputs": [
    {
     "data": {
      "text/plain": [
       "array(['France', 'Italy', 'Poland', 'India', 'Russia', 'Morroco', 'Cuba'],\n",
       "      dtype=object)"
      ]
     },
     "execution_count": 45,
     "metadata": {},
     "output_type": "execute_result"
    }
   ],
   "source": [
    "df['Country'].unique() "
   ]
  },
  {
   "cell_type": "code",
   "execution_count": 46,
   "id": "928feedb",
   "metadata": {
    "scrolled": true
   },
   "outputs": [
    {
     "name": "stdout",
     "output_type": "stream",
     "text": [
      "['The Frog at Bercy Village' 'Ad Hoc Ristorante (Piazza del Popolo)'\n",
      " 'Stara Kamienica' 'Mosaic' 'Pelmenya' 'The LOFT'\n",
      " 'Old Square (Plaza Vieja)']\n"
     ]
    },
    {
     "data": {
      "text/plain": [
       "7"
      ]
     },
     "execution_count": 46,
     "metadata": {},
     "output_type": "execute_result"
    }
   ],
   "source": [
    "print(df['Restaurant Name'].unique() )\n",
    "\n",
    "len(df['Restaurant Name'].unique() )"
   ]
  },
  {
   "cell_type": "code",
   "execution_count": 27,
   "id": "c8520562",
   "metadata": {},
   "outputs": [
    {
     "data": {
      "text/plain": [
       "array(['Negative', 'Positive'], dtype=object)"
      ]
     },
     "execution_count": 27,
     "metadata": {},
     "output_type": "execute_result"
    }
   ],
   "source": [
    "df['Sentiment'].unique() "
   ]
  },
  {
   "cell_type": "code",
   "execution_count": 28,
   "id": "f68bc095",
   "metadata": {},
   "outputs": [
    {
     "data": {
      "text/plain": [
       "1343"
      ]
     },
     "execution_count": 28,
     "metadata": {},
     "output_type": "execute_result"
    }
   ],
   "source": [
    "#print(df['Review Title'].unique() )\n",
    "\n",
    "len(df['Review Title'].unique())"
   ]
  },
  {
   "cell_type": "code",
   "execution_count": 29,
   "id": "48892fbf",
   "metadata": {},
   "outputs": [
    {
     "data": {
      "text/plain": [
       "143"
      ]
     },
     "execution_count": 29,
     "metadata": {},
     "output_type": "execute_result"
    }
   ],
   "source": [
    "#df['Review Date'].unique()\n",
    "len(df['Review Date'].unique())"
   ]
  },
  {
   "cell_type": "code",
   "execution_count": 30,
   "id": "0f343075",
   "metadata": {},
   "outputs": [
    {
     "data": {
      "text/plain": [
       "1426"
      ]
     },
     "execution_count": 30,
     "metadata": {},
     "output_type": "execute_result"
    }
   ],
   "source": [
    "#df['Review'].unique()\n",
    "len(df['Review'].unique())"
   ]
  },
  {
   "cell_type": "code",
   "execution_count": null,
   "id": "b1d2380a",
   "metadata": {},
   "outputs": [],
   "source": []
  },
  {
   "cell_type": "code",
   "execution_count": 12,
   "id": "5e2a7fbe",
   "metadata": {},
   "outputs": [
    {
     "data": {
      "image/png": "[encoded data removed]",
      "text/plain": [
       "<Figure size 500x500 with 1 Axes>"
      ]
     },
     "metadata": {},
     "output_type": "display_data"
    }
   ],
   "source": [
    "plt.figure(figsize=(5,5))\n",
    "sns.countplot(x = 'Sentiment', data = df)\n",
    "plt.xlabel('Restaurant Name')\n",
    "#plt.xticks(rotation=90)\n",
    "plt.show()"
   ]
  },
  {
   "cell_type": "code",
   "execution_count": 13,
   "id": "fa016a42",
   "metadata": {},
   "outputs": [
    {
     "data": {
      "image/png": "[encoded data removed]",
      "text/plain": [
       "<Figure size 2000x600 with 1 Axes>"
      ]
     },
     "metadata": {},
     "output_type": "display_data"
    }
   ],
   "source": [
    "plt.figure(figsize=(20,6))\n",
    "sns.countplot(x = 'Restaurant Name', data = df, hue = 'Sentiment')\n",
    "plt.xlabel('Restaurant Name')\n",
    "plt.xticks(rotation=90)\n",
    "plt.show()"
   ]
  },
  {
   "cell_type": "code",
   "execution_count": 14,
   "id": "33e881f8",
   "metadata": {},
   "outputs": [
    {
     "data": {
      "image/png": "[encoded data removed]",
      "text/plain": [
       "<Figure size 2000x600 with 1 Axes>"
      ]
     },
     "metadata": {},
     "output_type": "display_data"
    }
   ],
   "source": [
    "plt.figure(figsize=(20,6))\n",
    "sns.countplot(x = 'Country', data = df, hue = 'Sentiment')\n",
    "plt.xlabel('Restaurant Name')\n",
    "#plt.xticks(rotation=90)\n",
    "plt.show()"
   ]
  },
  {
   "cell_type": "code",
   "execution_count": 15,
   "id": "dccd99eb",
   "metadata": {},
   "outputs": [
    {
     "data": {
      "image/png": "[encoded data removed]",
      "text/plain": [
       "<Figure size 2000x600 with 1 Axes>"
      ]
     },
     "metadata": {},
     "output_type": "display_data"
    }
   ],
   "source": [
    "plt.figure(figsize=(20,6))\n",
    "sns.countplot(x = 'Country', data = df, hue = 'Restaurant Name')\n",
    "plt.xlabel('Restaurant Name')\n",
    "#plt.xticks(rotation=90)\n",
    "plt.show()"
   ]
  },
  {
   "cell_type": "code",
   "execution_count": null,
   "id": "fddd46f0",
   "metadata": {},
   "outputs": [],
   "source": []
  },
  {
   "cell_type": "code",
   "execution_count": 72,
   "id": "de598d9e",
   "metadata": {},
   "outputs": [
    {
     "data": {
      "text/html": [
       "<div>\n",
       "<style scoped>\n",
       "    .dataframe tbody tr th:only-of-type {\n",
       "        vertical-align: middle;\n",
       "    }\n",
       "\n",
       "    .dataframe tbody tr th {\n",
       "        vertical-align: top;\n",
       "    }\n",
       "\n",
       "    .dataframe thead th {\n",
       "        text-align: right;\n",
       "    }\n",
       "</style>\n",
       "<table border=\"1\" class=\"dataframe\">\n",
       "  <thead>\n",
       "    <tr style=\"text-align: right;\">\n",
       "      <th></th>\n",
       "      <th>Country</th>\n",
       "      <th>Restaurant Name</th>\n",
       "      <th>Sentiment</th>\n",
       "      <th>Review Title</th>\n",
       "      <th>Review Date</th>\n",
       "      <th>Review</th>\n",
       "    </tr>\n",
       "  </thead>\n",
       "  <tbody>\n",
       "    <tr>\n",
       "      <th>0</th>\n",
       "      <td>France</td>\n",
       "      <td>The Frog at Bercy Village</td>\n",
       "      <td>0</td>\n",
       "      <td>Rude manager</td>\n",
       "      <td>May 2024 •</td>\n",
       "      <td>The manager became agressive when I said the c...</td>\n",
       "    </tr>\n",
       "    <tr>\n",
       "      <th>1</th>\n",
       "      <td>France</td>\n",
       "      <td>The Frog at Bercy Village</td>\n",
       "      <td>0</td>\n",
       "      <td>A big disappointment</td>\n",
       "      <td>Feb 2024 •</td>\n",
       "      <td>I ordered a beef fillet ask to be done medium,...</td>\n",
       "    </tr>\n",
       "    <tr>\n",
       "      <th>2</th>\n",
       "      <td>France</td>\n",
       "      <td>The Frog at Bercy Village</td>\n",
       "      <td>0</td>\n",
       "      <td>Pretty Place with Bland Food</td>\n",
       "      <td>Nov 2023 •</td>\n",
       "      <td>This is an attractive venue with welcoming, al...</td>\n",
       "    </tr>\n",
       "    <tr>\n",
       "      <th>3</th>\n",
       "      <td>France</td>\n",
       "      <td>The Frog at Bercy Village</td>\n",
       "      <td>0</td>\n",
       "      <td>Great service and wine but inedible food</td>\n",
       "      <td>Mar 2023 •</td>\n",
       "      <td>Sadly I  used the high TripAdvisor rating too ...</td>\n",
       "    </tr>\n",
       "    <tr>\n",
       "      <th>4</th>\n",
       "      <td>France</td>\n",
       "      <td>The Frog at Bercy Village</td>\n",
       "      <td>0</td>\n",
       "      <td>Avoid- Worst meal in Rome - possibly ever</td>\n",
       "      <td>Nov 2022 •</td>\n",
       "      <td>From the start this meal was bad- especially g...</td>\n",
       "    </tr>\n",
       "  </tbody>\n",
       "</table>\n",
       "</div>"
      ],
      "text/plain": [
       "  Country            Restaurant Name  Sentiment  \\\n",
       "0  France  The Frog at Bercy Village          0   \n",
       "1  France  The Frog at Bercy Village          0   \n",
       "2  France  The Frog at Bercy Village          0   \n",
       "3  France  The Frog at Bercy Village          0   \n",
       "4  France  The Frog at Bercy Village          0   \n",
       "\n",
       "                                Review Title Review Date  \\\n",
       "0                               Rude manager  May 2024 •   \n",
       "1                       A big disappointment  Feb 2024 •   \n",
       "2               Pretty Place with Bland Food  Nov 2023 •   \n",
       "3   Great service and wine but inedible food  Mar 2023 •   \n",
       "4  Avoid- Worst meal in Rome - possibly ever  Nov 2022 •   \n",
       "\n",
       "                                              Review  \n",
       "0  The manager became agressive when I said the c...  \n",
       "1  I ordered a beef fillet ask to be done medium,...  \n",
       "2  This is an attractive venue with welcoming, al...  \n",
       "3  Sadly I  used the high TripAdvisor rating too ...  \n",
       "4  From the start this meal was bad- especially g...  "
      ]
     },
     "execution_count": 72,
     "metadata": {},
     "output_type": "execute_result"
    }
   ],
   "source": [
    "df['Sentiment'] = df['Sentiment'].replace({'Negative': 0, 'Positive': 1})\n",
    "df.head()"
   ]
  },
  {
   "cell_type": "code",
   "execution_count": 48,
   "id": "f06d5faa",
   "metadata": {},
   "outputs": [
    {
     "data": {
      "text/plain": [
       "array([0, 1], dtype=int64)"
      ]
     },
     "execution_count": 48,
     "metadata": {},
     "output_type": "execute_result"
    }
   ],
   "source": [
    "df['Sentiment'].unique()"
   ]
  },
  {
   "cell_type": "code",
   "execution_count": 73,
   "id": "8d20556a",
   "metadata": {
    "scrolled": true
   },
   "outputs": [
    {
     "data": {
      "text/plain": [
       "\"for i in range(1453):\\n    if df['Sentiment'][i] == 0 :\\n        print(i,df['Review'][i])\\n    else:\\n        print('#############################')\""
      ]
     },
     "execution_count": 73,
     "metadata": {},
     "output_type": "execute_result"
    }
   ],
   "source": [
    "\"\"\"for i in range(1453):\n",
    "    if df['Sentiment'][i] == 0 :\n",
    "        print(i,df['Review'][i])\n",
    "    else:\n",
    "        print('#############################')\"\"\""
   ]
  },
  {
   "cell_type": "code",
   "execution_count": 43,
   "id": "5944e8ef",
   "metadata": {},
   "outputs": [
    {
     "data": {
      "text/plain": [
       "0"
      ]
     },
     "execution_count": 43,
     "metadata": {},
     "output_type": "execute_result"
    }
   ],
   "source": [
    "df['Sentiment'][140] #130 : 151"
   ]
  },
  {
   "cell_type": "code",
   "execution_count": 44,
   "id": "2b2b7065",
   "metadata": {},
   "outputs": [
    {
     "name": "stdout",
     "output_type": "stream",
     "text": [
      "(1502, 6)\n"
     ]
    }
   ],
   "source": [
    "print(df.shape)"
   ]
  },
  {
   "cell_type": "code",
   "execution_count": 49,
   "id": "73b3fb15",
   "metadata": {},
   "outputs": [
    {
     "data": {
      "text/plain": [
       "1453"
      ]
     },
     "execution_count": 49,
     "metadata": {},
     "output_type": "execute_result"
    }
   ],
   "source": [
    "len(df['Sentiment'])"
   ]
  },
  {
   "cell_type": "code",
   "execution_count": 50,
   "id": "8af9e3bc",
   "metadata": {},
   "outputs": [
    {
     "data": {
      "text/plain": [
       "pandas.core.series.Series"
      ]
     },
     "execution_count": 50,
     "metadata": {},
     "output_type": "execute_result"
    }
   ],
   "source": [
    "type(df['Sentiment'])"
   ]
  },
  {
   "cell_type": "code",
   "execution_count": null,
   "id": "a0d7c475",
   "metadata": {},
   "outputs": [],
   "source": []
  },
  {
   "cell_type": "code",
   "execution_count": null,
   "id": "69888690",
   "metadata": {},
   "outputs": [],
   "source": []
  },
  {
   "cell_type": "code",
   "execution_count": null,
   "id": "a0d2a115",
   "metadata": {},
   "outputs": [],
   "source": []
  },
  {
   "cell_type": "code",
   "execution_count": null,
   "id": "4c714465",
   "metadata": {},
   "outputs": [],
   "source": []
  },
  {
   "cell_type": "code",
   "execution_count": null,
   "id": "a017d9f6",
   "metadata": {},
   "outputs": [],
   "source": []
  },
  {
   "cell_type": "code",
   "execution_count": null,
   "id": "45eddead",
   "metadata": {},
   "outputs": [],
   "source": []
  },
  {
   "cell_type": "code",
   "execution_count": 49,
   "id": "45393467",
   "metadata": {},
   "outputs": [],
   "source": [
    "  # [] for range\n",
    "  # + one or more\n",
    "  # | or\n",
    "  # ^ not\n",
    "  # \\w word\n",
    "\n",
    "def remove_user(text):\n",
    "    user = re.compile(r\"(@[A-Za-z0-9]+)|([^0-9A-Za-z \\t])|(\\w+:\\/\\/\\S+)\")\n",
    "    clean_text = user.sub(r'',text)\n",
    "    return clean_text"
   ]
  },
  {
   "cell_type": "code",
   "execution_count": null,
   "id": "980885c5",
   "metadata": {},
   "outputs": [],
   "source": []
  },
  {
   "cell_type": "code",
   "execution_count": 50,
   "id": "2f6b2c2b",
   "metadata": {},
   "outputs": [],
   "source": [
    "# punctuation  '!\"#$%&\\'()*+,-./:;<=>?@[\\\\]^_`{|}~'\n",
    "#Remove Punctuation\n",
    "def remove_punctuation(text):\n",
    "    without_punct =\"\".join(i for i in text if i not in string.punctuation)\n",
    "    return without_punct"
   ]
  },
  {
   "cell_type": "code",
   "execution_count": 51,
   "id": "a18d6733",
   "metadata": {},
   "outputs": [],
   "source": [
    "#Lower Case\n",
    "def lower_case(text):\n",
    "    return text.lower()"
   ]
  },
  {
   "cell_type": "code",
   "execution_count": 52,
   "id": "a467139b",
   "metadata": {},
   "outputs": [],
   "source": [
    "#Tokenize Text\n",
    "def tokenization(text):\n",
    "    tokens = re.split('W+',text)\n",
    "    return tokens"
   ]
  },
  {
   "cell_type": "code",
   "execution_count": 53,
   "id": "8b6f28de",
   "metadata": {},
   "outputs": [],
   "source": [
    "# number\n",
    "# \\d digit\n",
    "# + one or more\n",
    "def remove_numbers(text):\n",
    "    nums = re.compile(r'\\d+')\n",
    "    clean_text = nums.sub(r'',text)\n",
    "    return clean_text"
   ]
  },
  {
   "cell_type": "code",
   "execution_count": 54,
   "id": "7b41fb48",
   "metadata": {},
   "outputs": [],
   "source": [
    "def remove_stopwords(text):\n",
    "    not_stopword = [i for i in text  if i not in stop_words]\n",
    "    return not_stopword"
   ]
  },
  {
   "cell_type": "code",
   "execution_count": 94,
   "id": "37e803f5",
   "metadata": {},
   "outputs": [],
   "source": [
    "def preprocess_Review(text):\n",
    "    clean_text = lower_case(remove_punctuation(remove_numbers(remove_user( convert_str(text)))))\n",
    "    \n",
    "    words = remove_stopwords(clean_text)\n",
    "    words = tokenization(words)\n",
    "\n",
    "    \n",
    "    stemmed_words=[porter_stemmer.stem(word=words) for word in words]\n",
    "     \n",
    "    return ''.join(stemmed_words)"
   ]
  },
  {
   "cell_type": "code",
   "execution_count": 99,
   "id": "5835e91f",
   "metadata": {},
   "outputs": [],
   "source": [
    "def convert_str(list_text):\n",
    "  string = ''.join([str(item) for item in list_text])\n",
    "  return string"
   ]
  },
  {
   "cell_type": "code",
   "execution_count": null,
   "id": "23a856e3",
   "metadata": {
    "scrolled": false
   },
   "outputs": [],
   "source": []
  },
  {
   "cell_type": "code",
   "execution_count": 85,
   "id": "62e591f9",
   "metadata": {},
   "outputs": [
    {
     "data": {
      "text/plain": [
       "<module 'string' from 'C:\\\\ProgramData\\\\anaconda3\\\\Lib\\\\string.py'>"
      ]
     },
     "execution_count": 85,
     "metadata": {},
     "output_type": "execute_result"
    }
   ],
   "source": [
    "string"
   ]
  },
  {
   "cell_type": "code",
   "execution_count": 75,
   "id": "1fe7a1d4",
   "metadata": {},
   "outputs": [
    {
     "data": {
      "text/plain": [
       "pandas.core.series.Series"
      ]
     },
     "execution_count": 75,
     "metadata": {},
     "output_type": "execute_result"
    }
   ],
   "source": [
    "type(df['Review'])"
   ]
  },
  {
   "cell_type": "code",
   "execution_count": 77,
   "id": "40eb516c",
   "metadata": {},
   "outputs": [
    {
     "data": {
      "text/plain": [
       "0       The manager became agressive when I said the c...\n",
       "1       I ordered a beef fillet ask to be done medium,...\n",
       "2       This is an attractive venue with welcoming, al...\n",
       "3       Sadly I  used the high TripAdvisor rating too ...\n",
       "4       From the start this meal was bad- especially g...\n",
       "                              ...                        \n",
       "1497    Despite the other reviews saying that this is ...\n",
       "1498    beer is good.  food is awfull  The only decent...\n",
       "1499    for terrible service of a truly comedic level,...\n",
       "1500    We visited the Havana's Club Museum which is l...\n",
       "1501    Food and service was awful. Very pretty stop. ...\n",
       "Name: Review, Length: 1502, dtype: object"
      ]
     },
     "execution_count": 77,
     "metadata": {},
     "output_type": "execute_result"
    }
   ],
   "source": [
    "df['Review']"
   ]
  },
  {
   "cell_type": "code",
   "execution_count": null,
   "id": "8144c02b",
   "metadata": {},
   "outputs": [],
   "source": []
  },
  {
   "cell_type": "code",
   "execution_count": null,
   "id": "626bcdbd",
   "metadata": {},
   "outputs": [],
   "source": []
  },
  {
   "cell_type": "code",
   "execution_count": 1,
   "id": "680efe3e",
   "metadata": {},
   "outputs": [],
   "source": [
    "\n",
    "\n",
    "df['CleanReview'] = df.apply(lambda row: preprocess_Review(df[\"Review\"]), axis = 1)\n",
    "df['Tokens'] = text_df.apply(lambda row: word_tokenize(row['CleanReview']), axis = 1)\n",
    "#df.head(4)"
   ]
  },
  {
   "cell_type": "code",
   "execution_count": null,
   "id": "f7d438e5",
   "metadata": {},
   "outputs": [],
   "source": []
  },
  {
   "cell_type": "code",
   "execution_count": null,
   "id": "09084278",
   "metadata": {},
   "outputs": [],
   "source": []
  }
 ],
 "metadata": {
  "kernelspec": {
   "display_name": "Python 3 (ipykernel)",
   "language": "python",
   "name": "python3"
  },
  "language_info": {
   "codemirror_mode": {
    "name": "ipython",
    "version": 3
   },
   "file_extension": ".py",
   "mimetype": "text/x-python",
   "name": "python",
   "nbconvert_exporter": "python",
   "pygments_lexer": "ipython3",
   "version": "3.11.5"
  }
 },
 "nbformat": 4,
 "nbformat_minor": 5
}
